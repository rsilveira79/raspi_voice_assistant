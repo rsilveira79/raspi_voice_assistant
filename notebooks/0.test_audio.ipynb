{
 "cells": [
  {
   "cell_type": "code",
   "execution_count": 1,
   "id": "848f028c-82f5-41f7-bc05-aa6fb797f4e4",
   "metadata": {},
   "outputs": [],
   "source": [
    "%load_ext autoreload\n",
    "%autoreload 2"
   ]
  },
  {
   "cell_type": "code",
   "execution_count": 2,
   "id": "eb71fee1-d2e1-4d35-af24-943f469e93b5",
   "metadata": {},
   "outputs": [],
   "source": [
    "#!uv add scipy\n",
    "#!uv add matplotlib\n",
    "#!uv add rich\n",
    "#!uv add pvporcupine"
   ]
  },
  {
   "cell_type": "code",
   "execution_count": 3,
   "id": "ec1592ab-47dd-4d41-829f-e2ddec1ec32d",
   "metadata": {},
   "outputs": [],
   "source": [
    "import os\n",
    "from rich import print"
   ]
  },
  {
   "cell_type": "code",
   "execution_count": 4,
   "id": "b6d289ff-da13-47c4-9122-b7c8e901d2b1",
   "metadata": {},
   "outputs": [
    {
     "data": {
      "text/html": [
       "<pre style=\"white-space:pre;overflow-x:auto;line-height:normal;font-family:Menlo,'DejaVu Sans Mono',consolas,'Courier New',monospace\"><span style=\"color: #008080; text-decoration-color: #008080; font-weight: bold\">0.2</span>.<span style=\"color: #008080; text-decoration-color: #008080; font-weight: bold\">14</span>\n",
       "</pre>\n"
      ],
      "text/plain": [
       "\u001b[1;36m0.2\u001b[0m.\u001b[1;36m14\u001b[0m\n"
      ]
     },
     "metadata": {},
     "output_type": "display_data"
    }
   ],
   "source": [
    "import pyaudio\n",
    "print(pyaudio.__version__)"
   ]
  },
  {
   "cell_type": "code",
   "execution_count": 5,
   "id": "e47cb955-7ebd-443a-affd-986936c2bf99",
   "metadata": {},
   "outputs": [
    {
     "data": {
      "text/html": [
       "<pre style=\"white-space:pre;overflow-x:auto;line-height:normal;font-family:Menlo,'DejaVu Sans Mono',consolas,'Courier New',monospace\">   <span style=\"color: #008080; text-decoration-color: #008080; font-weight: bold\">0</span> bcm2835 Headphones: - <span style=\"font-weight: bold\">(</span>hw:<span style=\"color: #008080; text-decoration-color: #008080; font-weight: bold\">0</span>,<span style=\"color: #008080; text-decoration-color: #008080; font-weight: bold\">0</span><span style=\"font-weight: bold\">)</span>, ALSA <span style=\"font-weight: bold\">(</span><span style=\"color: #008080; text-decoration-color: #008080; font-weight: bold\">0</span> in, <span style=\"color: #008080; text-decoration-color: #008080; font-weight: bold\">8</span> out<span style=\"font-weight: bold\">)</span>\n",
       "   <span style=\"color: #008080; text-decoration-color: #008080; font-weight: bold\">1</span> seeed-2mic-voicecard: bcm2835-i2s-wm8960-hifi wm8960-hifi-<span style=\"color: #008080; text-decoration-color: #008080; font-weight: bold\">0</span> <span style=\"font-weight: bold\">(</span>hw:<span style=\"color: #008080; text-decoration-color: #008080; font-weight: bold\">2</span>,<span style=\"color: #008080; text-decoration-color: #008080; font-weight: bold\">0</span><span style=\"font-weight: bold\">)</span>, ALSA <span style=\"font-weight: bold\">(</span><span style=\"color: #008080; text-decoration-color: #008080; font-weight: bold\">2</span> in, <span style=\"color: #008080; text-decoration-color: #008080; font-weight: bold\">2</span> out<span style=\"font-weight: bold\">)</span>\n",
       "   <span style=\"color: #008080; text-decoration-color: #008080; font-weight: bold\">2</span> sysdefault, ALSA <span style=\"font-weight: bold\">(</span><span style=\"color: #008080; text-decoration-color: #008080; font-weight: bold\">0</span> in, <span style=\"color: #008080; text-decoration-color: #008080; font-weight: bold\">128</span> out<span style=\"font-weight: bold\">)</span>\n",
       "   <span style=\"color: #008080; text-decoration-color: #008080; font-weight: bold\">3</span> lavrate, ALSA <span style=\"font-weight: bold\">(</span><span style=\"color: #008080; text-decoration-color: #008080; font-weight: bold\">0</span> in, <span style=\"color: #008080; text-decoration-color: #008080; font-weight: bold\">128</span> out<span style=\"font-weight: bold\">)</span>\n",
       "   <span style=\"color: #008080; text-decoration-color: #008080; font-weight: bold\">4</span> samplerate, ALSA <span style=\"font-weight: bold\">(</span><span style=\"color: #008080; text-decoration-color: #008080; font-weight: bold\">0</span> in, <span style=\"color: #008080; text-decoration-color: #008080; font-weight: bold\">128</span> out<span style=\"font-weight: bold\">)</span>\n",
       "   <span style=\"color: #008080; text-decoration-color: #008080; font-weight: bold\">5</span> speexrate, ALSA <span style=\"font-weight: bold\">(</span><span style=\"color: #008080; text-decoration-color: #008080; font-weight: bold\">0</span> in, <span style=\"color: #008080; text-decoration-color: #008080; font-weight: bold\">128</span> out<span style=\"font-weight: bold\">)</span>\n",
       "   <span style=\"color: #008080; text-decoration-color: #008080; font-weight: bold\">6</span> speex, ALSA <span style=\"font-weight: bold\">(</span><span style=\"color: #008080; text-decoration-color: #008080; font-weight: bold\">0</span> in, <span style=\"color: #008080; text-decoration-color: #008080; font-weight: bold\">1</span> out<span style=\"font-weight: bold\">)</span>\n",
       "   <span style=\"color: #008080; text-decoration-color: #008080; font-weight: bold\">7</span> upmix, ALSA <span style=\"font-weight: bold\">(</span><span style=\"color: #008080; text-decoration-color: #008080; font-weight: bold\">0</span> in, <span style=\"color: #008080; text-decoration-color: #008080; font-weight: bold\">8</span> out<span style=\"font-weight: bold\">)</span>\n",
       "   <span style=\"color: #008080; text-decoration-color: #008080; font-weight: bold\">8</span> vdownmix, ALSA <span style=\"font-weight: bold\">(</span><span style=\"color: #008080; text-decoration-color: #008080; font-weight: bold\">0</span> in, <span style=\"color: #008080; text-decoration-color: #008080; font-weight: bold\">6</span> out<span style=\"font-weight: bold\">)</span>\n",
       "   <span style=\"color: #008080; text-decoration-color: #008080; font-weight: bold\">9</span> playback, ALSA <span style=\"font-weight: bold\">(</span><span style=\"color: #008080; text-decoration-color: #008080; font-weight: bold\">0</span> in, <span style=\"color: #008080; text-decoration-color: #008080; font-weight: bold\">128</span> out<span style=\"font-weight: bold\">)</span>\n",
       "  <span style=\"color: #008080; text-decoration-color: #008080; font-weight: bold\">10</span> capture, ALSA <span style=\"font-weight: bold\">(</span><span style=\"color: #008080; text-decoration-color: #008080; font-weight: bold\">128</span> in, <span style=\"color: #008080; text-decoration-color: #008080; font-weight: bold\">0</span> out<span style=\"font-weight: bold\">)</span>\n",
       "  <span style=\"color: #008080; text-decoration-color: #008080; font-weight: bold\">11</span> dmixed, ALSA <span style=\"font-weight: bold\">(</span><span style=\"color: #008080; text-decoration-color: #008080; font-weight: bold\">0</span> in, <span style=\"color: #008080; text-decoration-color: #008080; font-weight: bold\">2</span> out<span style=\"font-weight: bold\">)</span>\n",
       "  <span style=\"color: #008080; text-decoration-color: #008080; font-weight: bold\">12</span> array, ALSA <span style=\"font-weight: bold\">(</span><span style=\"color: #008080; text-decoration-color: #008080; font-weight: bold\">2</span> in, <span style=\"color: #008080; text-decoration-color: #008080; font-weight: bold\">0</span> out<span style=\"font-weight: bold\">)</span>\n",
       "  <span style=\"color: #008080; text-decoration-color: #008080; font-weight: bold\">13</span> dmix, ALSA <span style=\"font-weight: bold\">(</span><span style=\"color: #008080; text-decoration-color: #008080; font-weight: bold\">0</span> in, <span style=\"color: #008080; text-decoration-color: #008080; font-weight: bold\">2</span> out<span style=\"font-weight: bold\">)</span>\n",
       "* <span style=\"color: #008080; text-decoration-color: #008080; font-weight: bold\">14</span> default, ALSA <span style=\"font-weight: bold\">(</span><span style=\"color: #008080; text-decoration-color: #008080; font-weight: bold\">128</span> in, <span style=\"color: #008080; text-decoration-color: #008080; font-weight: bold\">128</span> out<span style=\"font-weight: bold\">)</span>\n",
       "</pre>\n"
      ],
      "text/plain": [
       "   \u001b[1;36m0\u001b[0m bcm2835 Headphones: - \u001b[1m(\u001b[0mhw:\u001b[1;36m0\u001b[0m,\u001b[1;36m0\u001b[0m\u001b[1m)\u001b[0m, ALSA \u001b[1m(\u001b[0m\u001b[1;36m0\u001b[0m in, \u001b[1;36m8\u001b[0m out\u001b[1m)\u001b[0m\n",
       "   \u001b[1;36m1\u001b[0m seeed-2mic-voicecard: bcm2835-i2s-wm8960-hifi wm8960-hifi-\u001b[1;36m0\u001b[0m \u001b[1m(\u001b[0mhw:\u001b[1;36m2\u001b[0m,\u001b[1;36m0\u001b[0m\u001b[1m)\u001b[0m, ALSA \u001b[1m(\u001b[0m\u001b[1;36m2\u001b[0m in, \u001b[1;36m2\u001b[0m out\u001b[1m)\u001b[0m\n",
       "   \u001b[1;36m2\u001b[0m sysdefault, ALSA \u001b[1m(\u001b[0m\u001b[1;36m0\u001b[0m in, \u001b[1;36m128\u001b[0m out\u001b[1m)\u001b[0m\n",
       "   \u001b[1;36m3\u001b[0m lavrate, ALSA \u001b[1m(\u001b[0m\u001b[1;36m0\u001b[0m in, \u001b[1;36m128\u001b[0m out\u001b[1m)\u001b[0m\n",
       "   \u001b[1;36m4\u001b[0m samplerate, ALSA \u001b[1m(\u001b[0m\u001b[1;36m0\u001b[0m in, \u001b[1;36m128\u001b[0m out\u001b[1m)\u001b[0m\n",
       "   \u001b[1;36m5\u001b[0m speexrate, ALSA \u001b[1m(\u001b[0m\u001b[1;36m0\u001b[0m in, \u001b[1;36m128\u001b[0m out\u001b[1m)\u001b[0m\n",
       "   \u001b[1;36m6\u001b[0m speex, ALSA \u001b[1m(\u001b[0m\u001b[1;36m0\u001b[0m in, \u001b[1;36m1\u001b[0m out\u001b[1m)\u001b[0m\n",
       "   \u001b[1;36m7\u001b[0m upmix, ALSA \u001b[1m(\u001b[0m\u001b[1;36m0\u001b[0m in, \u001b[1;36m8\u001b[0m out\u001b[1m)\u001b[0m\n",
       "   \u001b[1;36m8\u001b[0m vdownmix, ALSA \u001b[1m(\u001b[0m\u001b[1;36m0\u001b[0m in, \u001b[1;36m6\u001b[0m out\u001b[1m)\u001b[0m\n",
       "   \u001b[1;36m9\u001b[0m playback, ALSA \u001b[1m(\u001b[0m\u001b[1;36m0\u001b[0m in, \u001b[1;36m128\u001b[0m out\u001b[1m)\u001b[0m\n",
       "  \u001b[1;36m10\u001b[0m capture, ALSA \u001b[1m(\u001b[0m\u001b[1;36m128\u001b[0m in, \u001b[1;36m0\u001b[0m out\u001b[1m)\u001b[0m\n",
       "  \u001b[1;36m11\u001b[0m dmixed, ALSA \u001b[1m(\u001b[0m\u001b[1;36m0\u001b[0m in, \u001b[1;36m2\u001b[0m out\u001b[1m)\u001b[0m\n",
       "  \u001b[1;36m12\u001b[0m array, ALSA \u001b[1m(\u001b[0m\u001b[1;36m2\u001b[0m in, \u001b[1;36m0\u001b[0m out\u001b[1m)\u001b[0m\n",
       "  \u001b[1;36m13\u001b[0m dmix, ALSA \u001b[1m(\u001b[0m\u001b[1;36m0\u001b[0m in, \u001b[1;36m2\u001b[0m out\u001b[1m)\u001b[0m\n",
       "* \u001b[1;36m14\u001b[0m default, ALSA \u001b[1m(\u001b[0m\u001b[1;36m128\u001b[0m in, \u001b[1;36m128\u001b[0m out\u001b[1m)\u001b[0m\n"
      ]
     },
     "metadata": {},
     "output_type": "display_data"
    }
   ],
   "source": [
    "import sounddevice as sd\n",
    "import numpy as np\n",
    "from scipy.io.wavfile import write\n",
    "import matplotlib.pyplot as plt\n",
    "\n",
    "print(sd.query_devices())"
   ]
  },
  {
   "cell_type": "code",
   "execution_count": 6,
   "id": "ac989df5-d040-4c8c-bcc2-2b154c3e60c5",
   "metadata": {},
   "outputs": [],
   "source": [
    "PICOVOICE_API_KEY=os.environ['PICOVOICE_API_KEY']\n",
    "OPENAI_API_KEY=os.environ['OPENAI_API_KEY']"
   ]
  },
  {
   "cell_type": "code",
   "execution_count": 7,
   "id": "352c0db6-31e8-40d3-8e1e-6438be14c6ca",
   "metadata": {},
   "outputs": [],
   "source": [
    "DEVICE = \"seeed-2mic-voicecard\"\n",
    "audio_file = \"output_3.wav\""
   ]
  },
  {
   "cell_type": "code",
   "execution_count": 8,
   "id": "aa109e46-64e3-42f7-950b-fa2d4b0420e5",
   "metadata": {},
   "outputs": [
    {
     "data": {
      "text/html": [
       "<pre style=\"white-space:pre;overflow-x:auto;line-height:normal;font-family:Menlo,'DejaVu Sans Mono',consolas,'Courier New',monospace\">Recorded shape:\n",
       "<span style=\"font-weight: bold\">(</span><span style=\"color: #008080; text-decoration-color: #008080; font-weight: bold\">240000</span>, <span style=\"color: #008080; text-decoration-color: #008080; font-weight: bold\">1</span><span style=\"font-weight: bold\">)</span>\n",
       "</pre>\n"
      ],
      "text/plain": [
       "Recorded shape:\n",
       "\u001b[1m(\u001b[0m\u001b[1;36m240000\u001b[0m, \u001b[1;36m1\u001b[0m\u001b[1m)\u001b[0m\n"
      ]
     },
     "metadata": {},
     "output_type": "display_data"
    }
   ],
   "source": [
    "# Record 5 seconds of audio\n",
    "duration = 5  \n",
    "samplerate = 48000  # matches openWakeWord default\n",
    "recording = sd.rec(int(duration * samplerate), \n",
    "                   samplerate=samplerate, \n",
    "                   channels=1, \n",
    "                   dtype='int16', \n",
    "                   device=DEVICE)\n",
    "sd.wait()\n",
    "\n",
    "print(\"Recorded shape:\", recording.shape)"
   ]
  },
  {
   "cell_type": "code",
   "execution_count": 9,
   "id": "6764b20d-0045-41ba-9b27-a324a94790e9",
   "metadata": {},
   "outputs": [
    {
     "data": {
      "text/html": [
       "<pre style=\"white-space:pre;overflow-x:auto;line-height:normal;font-family:Menlo,'DejaVu Sans Mono',consolas,'Courier New',monospace\">Saved as output_3.wav\n",
       "</pre>\n"
      ],
      "text/plain": [
       "Saved as output_3.wav\n"
      ]
     },
     "metadata": {},
     "output_type": "display_data"
    }
   ],
   "source": [
    "# Play back the recorded audio\n",
    "sd.play(recording, samplerate=samplerate, device=DEVICE)\n",
    "sd.wait()\n",
    "write(audio_file,samplerate, recording)\n",
    "print(f\"Saved as {audio_file}\")"
   ]
  },
  {
   "cell_type": "code",
   "execution_count": 10,
   "id": "0f4c6f88-29c9-4fd1-bf58-64b8dfd1402a",
   "metadata": {},
   "outputs": [
    {
     "name": "stdout",
     "output_type": "stream",
     "text": [
      "total 2.4M\n",
      "drwxr-xr-x 3 rsilveira79 rsilveira79 4.0K Sep  6 13:22 .\n",
      "drwxr-xr-x 6 rsilveira79 rsilveira79 4.0K Sep  6 12:27 ..\n",
      "-rw-r--r-- 1 rsilveira79 rsilveira79  29K Sep  6 13:22 0.test_audio.ipynb\n",
      "drwxr-xr-x 2 rsilveira79 rsilveira79 4.0K Sep  5 16:56 .ipynb_checkpoints\n",
      "-rw-r--r-- 1 rsilveira79 rsilveira79 938K Sep  5 17:12 output_2.wav\n",
      "-rw-r--r-- 1 rsilveira79 rsilveira79 469K Sep  6 13:22 output_3.wav\n",
      "-rw-r--r-- 1 rsilveira79 rsilveira79 938K Sep  5 17:10 output.wav\n"
     ]
    }
   ],
   "source": [
    "!ls -lah"
   ]
  },
  {
   "cell_type": "code",
   "execution_count": 11,
   "id": "24dc59d0-47d3-4f6c-b414-931a17b16b25",
   "metadata": {},
   "outputs": [],
   "source": [
    "## Plot audio "
   ]
  },
  {
   "cell_type": "code",
   "execution_count": 12,
   "id": "7233a191-18e2-49b5-90dd-153f488e9ae1",
   "metadata": {},
   "outputs": [],
   "source": [
    "audio_data = recording.flatten()\n",
    "time = np.arange(audio_data.shape[0]) / samplerate"
   ]
  },
  {
   "cell_type": "code",
   "execution_count": 13,
   "id": "7604b8ba-7024-4e32-9b9d-1debe59a4c45",
   "metadata": {},
   "outputs": [
    {
     "data": {
      "image/png": "[encoded data removed]",
      "text/plain": [
       "<Figure size 1000x400 with 1 Axes>"
      ]
     },
     "metadata": {},
     "output_type": "display_data"
    }
   ],
   "source": [
    "# Plot waveform\n",
    "plt.figure(figsize=(10, 4))\n",
    "plt.plot(time, audio_data, color='blue')\n",
    "plt.title(\"Audio Waveform\")\n",
    "plt.xlabel(\"Time [s]\")\n",
    "plt.ylabel(\"Amplitude\")\n",
    "plt.grid(True)\n",
    "plt.show()"
   ]
  },
  {
   "cell_type": "markdown",
   "id": "908dfd8f-daa5-4fd3-b2a7-33585c8b6a5b",
   "metadata": {},
   "source": [
    "## RGB LEDs"
   ]
  },
  {
   "cell_type": "code",
   "execution_count": null,
   "id": "0940c631-83f4-471a-af86-a4fcc73b4b2c",
   "metadata": {},
   "outputs": [],
   "source": [
    "import spidev\n",
    "import time"
   ]
  },
  {
   "cell_type": "code",
   "execution_count": null,
   "id": "5cca5729-ab51-4648-b6c2-4f08b61777d3",
   "metadata": {},
   "outputs": [],
   "source": [
    "spidev.__version__"
   ]
  },
  {
   "cell_type": "code",
   "execution_count": null,
   "id": "8807bb2e-e0bd-46b1-b89a-b62a10223744",
   "metadata": {},
   "outputs": [],
   "source": [
    "spi = spidev.SpiDev()"
   ]
  },
  {
   "cell_type": "code",
   "execution_count": null,
   "id": "4841c9a9-b352-4e02-a791-2afa3cff009e",
   "metadata": {},
   "outputs": [],
   "source": [
    "spi = spidev.SpiDev()\n",
    "spi.open(0, 0)\n",
    "spi.max_speed_hz = 8000000"
   ]
  },
  {
   "cell_type": "code",
   "execution_count": null,
   "id": "cde2efd9-7070-4844-b736-cbcf4f95f674",
   "metadata": {},
   "outputs": [],
   "source": [
    "BRIGHTNESS_LEVELS = {\n",
    "    \"off\": 0,\n",
    "    \"very-low\": 5,\n",
    "    \"low\": 5,\n",
    "    \"mid\": 15,\n",
    "    \"mid-high\": 20,\n",
    "    \"full\": 31\n",
    "}\n",
    "\n",
    "COLORS = {\n",
    "    \"blue\": [255, 0, 0],\n",
    "    \"light_blue\": [230, 216, 173],\n",
    "    \"magenta\": [255, 0, 255],\n",
    "    \"yellow\": [0, 255, 255],\n",
    "    \"green\": [0, 255, 0],\n",
    "    \"light_green\": [144, 238, 144],\n",
    "    \"orange\": [0, 165, 255],\n",
    "    \"red\": [0, 0, 255]\n",
    "}"
   ]
  },
  {
   "cell_type": "code",
   "execution_count": null,
   "id": "82cfde79-0266-4e18-8fe2-d18da7099c94",
   "metadata": {},
   "outputs": [],
   "source": [
    "def set_led_color(color: dict, brightness_mode: dict):\n",
    "    '''\n",
    "    Following APA102 SPI Protocol\n",
    "    # Start Frame: [0x00, 0x00, 0x00, 0x00]\n",
    "    # Format: [brightness, Blue, Green, Red]\n",
    "    # Brightness: 0b111xxxxx (0–31)\n",
    "    # End Frame: [0xFF, 0xFF, 0xFF, 0xFF]\n",
    "    '''\n",
    "    data = []\n",
    "    data += [0x00, 0x00, 0x00, 0x00]\n",
    "    brightness = [0b11100000 | brightness_mode]\n",
    "    for _ in range(3):  # 3 LEDs on the HAT\n",
    "        data += brightness + color\n",
    "    data += [0xFF, 0xFF, 0xFF, 0xFF]\n",
    "    spi.xfer2(data)"
   ]
  },
  {
   "cell_type": "code",
   "execution_count": null,
   "id": "0645d4c7-27f9-450d-8b95-cf14aa3f09c1",
   "metadata": {},
   "outputs": [],
   "source": [
    "def breathe_color(color_name, cycles=3, step_delay=0.05, max_brightness:int = 31):\n",
    "    color = COLORS[color_name]\n",
    "    # Smooth brightness ramp up and down\n",
    "    brightness_values = list(range(0, max_brightness+1, 1)) + list(range(max_brightness, -1, -1))\n",
    "    for _ in range(cycles):\n",
    "        for b in brightness_values:\n",
    "            set_led_color(color, b)\n",
    "            time.sleep(step_delay)"
   ]
  },
  {
   "cell_type": "code",
   "execution_count": null,
   "id": "04abe15a-42cb-48cc-a04f-2071d9b6a63e",
   "metadata": {},
   "outputs": [],
   "source": [
    "breathe_color(\"magenta\", cycles=10, step_delay=0.03)"
   ]
  },
  {
   "cell_type": "code",
   "execution_count": null,
   "id": "d797d512-1b42-44aa-8125-e10891f2bf94",
   "metadata": {},
   "outputs": [],
   "source": [
    "breathe_color(\"magenta\", cycles=3, step_delay=0.03, max_brightness=30)"
   ]
  },
  {
   "cell_type": "code",
   "execution_count": null,
   "id": "903e2796-6430-48bc-9160-957d0a561eb4",
   "metadata": {},
   "outputs": [],
   "source": []
  },
  {
   "cell_type": "code",
   "execution_count": null,
   "id": "da93c351-ab31-4649-b941-8ba06549205e",
   "metadata": {},
   "outputs": [],
   "source": []
  },
  {
   "cell_type": "code",
   "execution_count": null,
   "id": "492cb518-3146-476b-b88b-b727d041adb7",
   "metadata": {},
   "outputs": [],
   "source": [
    "set_led_color(COLORS['magenta'], BRIGHTNESS_LEVELS['mid'])"
   ]
  },
  {
   "cell_type": "code",
   "execution_count": null,
   "id": "6aaacdaa-5466-4ed2-8d76-4093f1bb9b75",
   "metadata": {},
   "outputs": [],
   "source": [
    "set_led_color(COLORS['magenta'], BRIGHTNESS_LEVELS['full'])"
   ]
  },
  {
   "cell_type": "code",
   "execution_count": null,
   "id": "e317619d-01f1-41d5-aadf-e85b781605cd",
   "metadata": {},
   "outputs": [],
   "source": [
    "set_led_color(COLORS['yellow'], BRIGHTNESS_LEVELS['low'])"
   ]
  },
  {
   "cell_type": "code",
   "execution_count": null,
   "id": "74d31852-e98b-440d-be3b-a6b7bc4b9a65",
   "metadata": {},
   "outputs": [],
   "source": [
    "set_led_color(COLORS['magenta'], BRIGHTNESS_LEVELS['off'])"
   ]
  },
  {
   "cell_type": "code",
   "execution_count": null,
   "id": "bac15c1d-a4e1-4566-961f-32d02fa6e284",
   "metadata": {},
   "outputs": [],
   "source": []
  },
  {
   "cell_type": "code",
   "execution_count": null,
   "id": "ba65fc53-c01a-4fc5-a21a-76a818705255",
   "metadata": {},
   "outputs": [],
   "source": [
    "data = []\n",
    "data += [0x00, 0x00, 0x00, 0x00]\n",
    "brightness = [0b11100000 | BRIGHTNESS_LEVELS['low']]\n",
    "data += brightness + COLORS['red']\n",
    "data += brightness + COLORS['magenta']\n",
    "data += brightness + COLORS['yellow']\n",
    "data += [0xFF, 0xFF, 0xFF, 0xFF]\n",
    "print(f\"LED Colors: {data}\")\n",
    "spi.xfer2(data)"
   ]
  },
  {
   "cell_type": "code",
   "execution_count": null,
   "id": "0e3b7020-a385-4282-84d6-d82bac0d8d27",
   "metadata": {},
   "outputs": [],
   "source": [
    "# --- Rainbow colors in RGB ---\n",
    "RAINBOW_COLORS = [\n",
    "    (255, 0, 0),       # Red\n",
    "    (255, 165, 0),     # Orange\n",
    "    (255, 255, 0),     # Yellow\n",
    "    (0, 255, 0),       # Green\n",
    "    (0, 255, 255),     # Cyan\n",
    "    (0, 0, 255),       # Blue\n",
    "    (128, 0, 128)      # Purple\n",
    "]\n",
    "\n",
    "NUM_LEDS = 3\n",
    "\n",
    "# --- Function to send LED data ---\n",
    "def write_leds(colors, brightness):\n",
    "    \"\"\"\n",
    "    colors: list of RGB tuples, one for each LED\n",
    "    brightness: 0-31\n",
    "    \"\"\"\n",
    "    data = [0x00, 0x00, 0x00, 0x00]  # Start frame\n",
    "    led_brightness = 0b11100000 | brightness\n",
    "    for r, g, b in colors:\n",
    "        data += [led_brightness, b, g, r]  # APA102 = BGR\n",
    "    data += [0xFF, 0xFF, 0xFF, 0xFF]  # End frame\n",
    "    spi.xfer2(data)\n",
    "\n",
    "# --- Breathing brightness ramp ---\n",
    "def brightness_ramp():\n",
    "    # Smooth ramp up and down\n",
    "    return list(range(0, 20)) + list(range(20, -1, -1))\n",
    "\n",
    "# --- Rotating rainbow with breathing ---\n",
    "def rotating_rainbow_breathe(cycles=5, step_delay=0.03):\n",
    "    colors = RAINBOW_COLORS.copy()\n",
    "    for _ in range(cycles):\n",
    "        for b in brightness_ramp():\n",
    "            # Pick the first 3 colors for LEDs\n",
    "            led_colors = [colors[i % len(colors)] for i in range(NUM_LEDS)]\n",
    "            write_leds(led_colors, b)\n",
    "            time.sleep(step_delay)\n",
    "            # Rotate colors for next step\n",
    "            colors = colors[1:] + colors[:1]"
   ]
  },
  {
   "cell_type": "code",
   "execution_count": null,
   "id": "cbc197d2-ac42-4c66-a21a-d0906b399e99",
   "metadata": {},
   "outputs": [],
   "source": [
    "rotating_rainbow_breathe(cycles=10, step_delay=0.2)"
   ]
  },
  {
   "cell_type": "code",
   "execution_count": null,
   "id": "9a499dea-3a36-4285-84ff-c8f4dd0270f8",
   "metadata": {},
   "outputs": [],
   "source": []
  },
  {
   "cell_type": "markdown",
   "id": "b46885c8-05cc-451d-9954-1cffca969490",
   "metadata": {},
   "source": [
    "## Wakeup word"
   ]
  },
  {
   "cell_type": "code",
   "execution_count": 14,
   "id": "b463f3bc-7ec1-4f4a-8b6c-31929a079b0c",
   "metadata": {},
   "outputs": [
    {
     "data": {
      "text/html": [
       "<pre style=\"white-space:pre;overflow-x:auto;line-height:normal;font-family:Menlo,'DejaVu Sans Mono',consolas,'Courier New',monospace\"><span style=\"font-weight: bold\">{</span>\n",
       "    <span style=\"color: #008000; text-decoration-color: #008000\">'alexa'</span>,\n",
       "    <span style=\"color: #008000; text-decoration-color: #008000\">'americano'</span>,\n",
       "    <span style=\"color: #008000; text-decoration-color: #008000\">'ok google'</span>,\n",
       "    <span style=\"color: #008000; text-decoration-color: #008000\">'grasshopper'</span>,\n",
       "    <span style=\"color: #008000; text-decoration-color: #008000\">'bumblebee'</span>,\n",
       "    <span style=\"color: #008000; text-decoration-color: #008000\">'grapefruit'</span>,\n",
       "    <span style=\"color: #008000; text-decoration-color: #008000\">'hey google'</span>,\n",
       "    <span style=\"color: #008000; text-decoration-color: #008000\">'terminator'</span>,\n",
       "    <span style=\"color: #008000; text-decoration-color: #008000\">'picovoice'</span>,\n",
       "    <span style=\"color: #008000; text-decoration-color: #008000\">'porcupine'</span>,\n",
       "    <span style=\"color: #008000; text-decoration-color: #008000\">'jarvis'</span>,\n",
       "    <span style=\"color: #008000; text-decoration-color: #008000\">'pico clock'</span>,\n",
       "    <span style=\"color: #008000; text-decoration-color: #008000\">'blueberry'</span>,\n",
       "    <span style=\"color: #008000; text-decoration-color: #008000\">'computer'</span>,\n",
       "    <span style=\"color: #008000; text-decoration-color: #008000\">'hey siri'</span>,\n",
       "    <span style=\"color: #008000; text-decoration-color: #008000\">'hey barista'</span>\n",
       "<span style=\"font-weight: bold\">}</span>\n",
       "</pre>\n"
      ],
      "text/plain": [
       "\u001b[1m{\u001b[0m\n",
       "    \u001b[32m'alexa'\u001b[0m,\n",
       "    \u001b[32m'americano'\u001b[0m,\n",
       "    \u001b[32m'ok google'\u001b[0m,\n",
       "    \u001b[32m'grasshopper'\u001b[0m,\n",
       "    \u001b[32m'bumblebee'\u001b[0m,\n",
       "    \u001b[32m'grapefruit'\u001b[0m,\n",
       "    \u001b[32m'hey google'\u001b[0m,\n",
       "    \u001b[32m'terminator'\u001b[0m,\n",
       "    \u001b[32m'picovoice'\u001b[0m,\n",
       "    \u001b[32m'porcupine'\u001b[0m,\n",
       "    \u001b[32m'jarvis'\u001b[0m,\n",
       "    \u001b[32m'pico clock'\u001b[0m,\n",
       "    \u001b[32m'blueberry'\u001b[0m,\n",
       "    \u001b[32m'computer'\u001b[0m,\n",
       "    \u001b[32m'hey siri'\u001b[0m,\n",
       "    \u001b[32m'hey barista'\u001b[0m\n",
       "\u001b[1m}\u001b[0m\n"
      ]
     },
     "metadata": {},
     "output_type": "display_data"
    }
   ],
   "source": [
    "import pvporcupine\n",
    "import pyaudio\n",
    "import struct\n",
    "print(pvporcupine.KEYWORDS)\n",
    "\n",
    "porcupine = pvporcupine.create(access_key=PICOVOICE_API_KEY,\n",
    "                               keywords=['porcupine'])\n",
    "pa = pyaudio.PyAudio()"
   ]
  },
  {
   "cell_type": "code",
   "execution_count": null,
   "id": "2d121816-f549-4355-9022-aeb5b61ea8d0",
   "metadata": {},
   "outputs": [],
   "source": [
    "volume = 0.3\n",
    "data = data * volume"
   ]
  },
  {
   "cell_type": "code",
   "execution_count": 3,
   "id": "7290940a-5490-4cf6-adbd-70834a3104df",
   "metadata": {},
   "outputs": [
    {
     "ename": "NameError",
     "evalue": "name 'data' is not defined",
     "output_type": "error",
     "traceback": [
      "\u001b[31m---------------------------------------------------------------------------\u001b[39m",
      "\u001b[31mNameError\u001b[39m                                 Traceback (most recent call last)",
      "\u001b[36mCell\u001b[39m\u001b[36m \u001b[39m\u001b[32mIn[3]\u001b[39m\u001b[32m, line 1\u001b[39m\n\u001b[32m----> \u001b[39m\u001b[32m1\u001b[39m \u001b[43mdata\u001b[49m\n",
      "\u001b[31mNameError\u001b[39m: name 'data' is not defined"
     ]
    }
   ],
   "source": [
    "data"
   ]
  },
  {
   "cell_type": "code",
   "execution_count": 1,
   "id": "a417ecf7-17d7-4b2c-860f-f41912d38842",
   "metadata": {},
   "outputs": [],
   "source": [
    "def play_sound(file: str):\n",
    "    import sounddevice as sd\n",
    "    from scipy.io import wavfile\n",
    "\n",
    "    samplerate, data = wavfile.read(file)\n",
    "    sd.play(data, samplerate)\n",
    "    sd.wait()"
   ]
  },
  {
   "cell_type": "code",
   "execution_count": 16,
   "id": "abd17a63-e99e-4e6c-b6c7-44450d26abca",
   "metadata": {},
   "outputs": [
    {
     "name": "stdout",
     "output_type": "stream",
     "text": [
      "total 936K\n",
      "drwxr-xr-x 2 rsilveira79 rsilveira79 4.0K Sep  6 12:36 .\n",
      "drwxr-xr-x 6 rsilveira79 rsilveira79 4.0K Sep  6 12:27 ..\n",
      "-rw-r--r-- 1 rsilveira79 rsilveira79 467K Sep  6 12:26 ding_elegant.wav\n",
      "-rw-r--r-- 1 rsilveira79 rsilveira79 101K Sep  6 11:06 fart.wav\n",
      "-rw-r--r-- 1 rsilveira79 rsilveira79 355K Sep  6 12:36 star_ding.wav\n"
     ]
    }
   ],
   "source": [
    "!ls -lah ../audio/"
   ]
  },
  {
   "cell_type": "code",
   "execution_count": 17,
   "id": "8eafa88f-1d7a-4ea6-af5b-9fe654173fbc",
   "metadata": {},
   "outputs": [],
   "source": [
    "play_sound(\"../audio/fart.wav\")"
   ]
  },
  {
   "cell_type": "code",
   "execution_count": 2,
   "id": "34a9ede3-40d1-4f31-b118-dcedd80e5cf0",
   "metadata": {},
   "outputs": [],
   "source": [
    "play_sound(\"../audio/ding_elegant.wav\")"
   ]
  },
  {
   "cell_type": "code",
   "execution_count": 4,
   "id": "fadfa5c9-23fe-4935-998c-faf391598cab",
   "metadata": {},
   "outputs": [
    {
     "name": "stderr",
     "output_type": "stream",
     "text": [
      "/tmp/ipykernel_880/2116437497.py:5: WavFileWarning: Chunk (non-data) not understood, skipping it.\n",
      "  samplerate, data = wavfile.read(file)\n"
     ]
    }
   ],
   "source": [
    "play_sound(\"../audio/star_ding.wav\", volume=0.02)"
   ]
  },
  {
   "cell_type": "code",
   "execution_count": null,
   "id": "670fe769-586c-459e-901f-727e0241a110",
   "metadata": {},
   "outputs": [],
   "source": [
    "!pwd"
   ]
  },
  {
   "cell_type": "code",
   "execution_count": null,
   "id": "e1f2d5ff-b929-4103-970e-a9cc360cb298",
   "metadata": {},
   "outputs": [],
   "source": [
    "stream = pa.open(\n",
    "    rate=porcupine.sample_rate,\n",
    "    channels=1,\n",
    "    format=pyaudio.paInt16,\n",
    "    input=True,\n",
    "    frames_per_buffer=porcupine.frame_length\n",
    ")\n",
    "\n",
    "while True:\n",
    "    pcm = stream.read(porcupine.frame_length, exception_on_overflow=False)\n",
    "    pcm = struct.unpack_from(\"h\" * porcupine.frame_length, pcm)\n",
    "    result = porcupine.process(pcm)\n",
    "    if result >= 0:\n",
    "        print(\"Wake word detected!\")\n",
    "        play_sound(\"../audio/star_ding.wav\")\n",
    "        breathe_color(\"magenta\", cycles=3, step_delay=0.03, max_brightness=30)"
   ]
  },
  {
   "cell_type": "code",
   "execution_count": null,
   "id": "110f36d4-7b87-4b87-a54c-2cf76844b1c6",
   "metadata": {},
   "outputs": [],
   "source": []
  },
  {
   "cell_type": "markdown",
   "id": "ce3c517a-f7a6-4084-b334-44c48ace8217",
   "metadata": {},
   "source": [
    "## Using AsyncIO"
   ]
  },
  {
   "cell_type": "code",
   "execution_count": 21,
   "id": "ae72d72e-3695-4995-9e48-3836772045cb",
   "metadata": {},
   "outputs": [],
   "source": [
    "import asyncio\n",
    "import nest_asyncio\n",
    "\n",
    "nest_asyncio.apply()"
   ]
  },
  {
   "cell_type": "code",
   "execution_count": 22,
   "id": "290082b6-8691-4341-983b-a71ed04a3892",
   "metadata": {},
   "outputs": [],
   "source": [
    "stream = pa.open(\n",
    "    rate=porcupine.sample_rate,\n",
    "    channels=1,\n",
    "    format=pyaudio.paInt16,\n",
    "    input=True,\n",
    "    frames_per_buffer=porcupine.frame_length\n",
    ")"
   ]
  },
  {
   "cell_type": "code",
   "execution_count": 23,
   "id": "9f64dd3f-f34e-497e-8e14-0974f5a5e99b",
   "metadata": {},
   "outputs": [],
   "source": [
    "async def play_sound_async(path):\n",
    "    loop = asyncio.get_running_loop()\n",
    "    await loop.run_in_executor(None, play_sound, path)"
   ]
  },
  {
   "cell_type": "code",
   "execution_count": 24,
   "id": "69cb681c-4637-4a0c-8e27-fb30f39e0bad",
   "metadata": {},
   "outputs": [],
   "source": [
    "async def breathe_color_async(color, cycles=3, step_delay=0.03, max_brightness=30):\n",
    "    # If breathe_color is blocking, run it in a thread\n",
    "    loop = asyncio.get_running_loop()\n",
    "    await loop.run_in_executor(None, breathe_color, color, cycles, step_delay, max_brightness)"
   ]
  },
  {
   "cell_type": "code",
   "execution_count": 25,
   "id": "2a1b5020-4d1e-4f7e-8fb1-219416d55038",
   "metadata": {},
   "outputs": [],
   "source": [
    "async def handle_wake_word():\n",
    "    print(\"Wake word detected!\")\n",
    "    await asyncio.gather(\n",
    "        play_sound_async(\"../audio/star_ding.wav\"),\n",
    "        breathe_color_async(\"magenta\", cycles=3, step_delay=0.03, max_brightness=30)\n",
    "    )"
   ]
  },
  {
   "cell_type": "code",
   "execution_count": 26,
   "id": "192d3215-8322-4059-a808-e25c33167aa4",
   "metadata": {},
   "outputs": [],
   "source": [
    "async def main_loop():\n",
    "    while True:\n",
    "        pcm = stream.read(porcupine.frame_length, exception_on_overflow=False)\n",
    "        pcm = struct.unpack_from(\"h\" * porcupine.frame_length, pcm)\n",
    "        result = porcupine.process(pcm)\n",
    "        if result >= 0:\n",
    "            # Schedule action without blocking\n",
    "            asyncio.create_task(handle_wake_word())"
   ]
  },
  {
   "cell_type": "code",
   "execution_count": 29,
   "id": "b1460b5e-b737-4736-939c-a167ce02d0b3",
   "metadata": {},
   "outputs": [],
   "source": [
    "#asyncio.run(main_loop())"
   ]
  },
  {
   "cell_type": "code",
   "execution_count": null,
   "id": "ec227211-12fe-453f-9e5a-1e7e4a9163e7",
   "metadata": {},
   "outputs": [],
   "source": []
  },
  {
   "cell_type": "code",
   "execution_count": null,
   "id": "8cb0de67-41a4-41e4-b652-be765ab582ed",
   "metadata": {},
   "outputs": [],
   "source": []
  }
 ],
 "metadata": {
  "kernelspec": {
   "display_name": "Python 3 (ipykernel)",
   "language": "python",
   "name": "python3"
  },
  "language_info": {
   "codemirror_mode": {
    "name": "ipython",
    "version": 3
   },
   "file_extension": ".py",
   "mimetype": "text/x-python",
   "name": "python",
   "nbconvert_exporter": "python",
   "pygments_lexer": "ipython3",
   "version": "3.11.2"
  }
 },
 "nbformat": 4,
 "nbformat_minor": 5
}
