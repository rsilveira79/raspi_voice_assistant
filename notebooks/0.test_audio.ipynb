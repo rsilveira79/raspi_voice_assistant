{
 "cells": [
  {
   "cell_type": "code",
   "execution_count": 1,
   "id": "848f028c-82f5-41f7-bc05-aa6fb797f4e4",
   "metadata": {},
   "outputs": [],
   "source": [
    "%load_ext autoreload\n",
    "%autoreload 2"
   ]
  },
  {
   "cell_type": "code",
   "execution_count": 2,
   "id": "eb71fee1-d2e1-4d35-af24-943f469e93b5",
   "metadata": {},
   "outputs": [],
   "source": [
    "#!uv add scipy\n",
    "#!uv add matplotlib\n",
    "#!uv add rich\n",
    "#!uv add pvporcupine"
   ]
  },
  {
   "cell_type": "code",
   "execution_count": 7,
   "id": "ec1592ab-47dd-4d41-829f-e2ddec1ec32d",
   "metadata": {},
   "outputs": [],
   "source": [
    "import os\n",
    "from rich import print"
   ]
  },
  {
   "cell_type": "code",
   "execution_count": 10,
   "id": "b6d289ff-da13-47c4-9122-b7c8e901d2b1",
   "metadata": {},
   "outputs": [
    {
     "data": {
      "text/html": [
       "<pre style=\"white-space:pre;overflow-x:auto;line-height:normal;font-family:Menlo,'DejaVu Sans Mono',consolas,'Courier New',monospace\"><span style=\"color: #008080; text-decoration-color: #008080; font-weight: bold\">0.2</span>.<span style=\"color: #008080; text-decoration-color: #008080; font-weight: bold\">14</span>\n",
       "</pre>\n"
      ],
      "text/plain": [
       "\u001b[1;36m0.2\u001b[0m.\u001b[1;36m14\u001b[0m\n"
      ]
     },
     "metadata": {},
     "output_type": "display_data"
    }
   ],
   "source": [
    "import pyaudio\n",
    "print(pyaudio.__version__)"
   ]
  },
  {
   "cell_type": "code",
   "execution_count": 11,
   "id": "e47cb955-7ebd-443a-affd-986936c2bf99",
   "metadata": {},
   "outputs": [
    {
     "data": {
      "text/html": [
       "<pre style=\"white-space:pre;overflow-x:auto;line-height:normal;font-family:Menlo,'DejaVu Sans Mono',consolas,'Courier New',monospace\">   <span style=\"color: #008080; text-decoration-color: #008080; font-weight: bold\">0</span> bcm2835 Headphones: - <span style=\"font-weight: bold\">(</span>hw:<span style=\"color: #008080; text-decoration-color: #008080; font-weight: bold\">0</span>,<span style=\"color: #008080; text-decoration-color: #008080; font-weight: bold\">0</span><span style=\"font-weight: bold\">)</span>, ALSA <span style=\"font-weight: bold\">(</span><span style=\"color: #008080; text-decoration-color: #008080; font-weight: bold\">0</span> in, <span style=\"color: #008080; text-decoration-color: #008080; font-weight: bold\">8</span> out<span style=\"font-weight: bold\">)</span>\n",
       "   <span style=\"color: #008080; text-decoration-color: #008080; font-weight: bold\">1</span> seeed-2mic-voicecard: bcm2835-i2s-wm8960-hifi wm8960-hifi-<span style=\"color: #008080; text-decoration-color: #008080; font-weight: bold\">0</span> <span style=\"font-weight: bold\">(</span>hw:<span style=\"color: #008080; text-decoration-color: #008080; font-weight: bold\">2</span>,<span style=\"color: #008080; text-decoration-color: #008080; font-weight: bold\">0</span><span style=\"font-weight: bold\">)</span>, ALSA <span style=\"font-weight: bold\">(</span><span style=\"color: #008080; text-decoration-color: #008080; font-weight: bold\">2</span> in, <span style=\"color: #008080; text-decoration-color: #008080; font-weight: bold\">2</span> out<span style=\"font-weight: bold\">)</span>\n",
       "   <span style=\"color: #008080; text-decoration-color: #008080; font-weight: bold\">2</span> sysdefault, ALSA <span style=\"font-weight: bold\">(</span><span style=\"color: #008080; text-decoration-color: #008080; font-weight: bold\">0</span> in, <span style=\"color: #008080; text-decoration-color: #008080; font-weight: bold\">128</span> out<span style=\"font-weight: bold\">)</span>\n",
       "   <span style=\"color: #008080; text-decoration-color: #008080; font-weight: bold\">3</span> lavrate, ALSA <span style=\"font-weight: bold\">(</span><span style=\"color: #008080; text-decoration-color: #008080; font-weight: bold\">0</span> in, <span style=\"color: #008080; text-decoration-color: #008080; font-weight: bold\">128</span> out<span style=\"font-weight: bold\">)</span>\n",
       "   <span style=\"color: #008080; text-decoration-color: #008080; font-weight: bold\">4</span> samplerate, ALSA <span style=\"font-weight: bold\">(</span><span style=\"color: #008080; text-decoration-color: #008080; font-weight: bold\">0</span> in, <span style=\"color: #008080; text-decoration-color: #008080; font-weight: bold\">128</span> out<span style=\"font-weight: bold\">)</span>\n",
       "   <span style=\"color: #008080; text-decoration-color: #008080; font-weight: bold\">5</span> speexrate, ALSA <span style=\"font-weight: bold\">(</span><span style=\"color: #008080; text-decoration-color: #008080; font-weight: bold\">0</span> in, <span style=\"color: #008080; text-decoration-color: #008080; font-weight: bold\">128</span> out<span style=\"font-weight: bold\">)</span>\n",
       "   <span style=\"color: #008080; text-decoration-color: #008080; font-weight: bold\">6</span> speex, ALSA <span style=\"font-weight: bold\">(</span><span style=\"color: #008080; text-decoration-color: #008080; font-weight: bold\">0</span> in, <span style=\"color: #008080; text-decoration-color: #008080; font-weight: bold\">1</span> out<span style=\"font-weight: bold\">)</span>\n",
       "   <span style=\"color: #008080; text-decoration-color: #008080; font-weight: bold\">7</span> upmix, ALSA <span style=\"font-weight: bold\">(</span><span style=\"color: #008080; text-decoration-color: #008080; font-weight: bold\">0</span> in, <span style=\"color: #008080; text-decoration-color: #008080; font-weight: bold\">8</span> out<span style=\"font-weight: bold\">)</span>\n",
       "   <span style=\"color: #008080; text-decoration-color: #008080; font-weight: bold\">8</span> vdownmix, ALSA <span style=\"font-weight: bold\">(</span><span style=\"color: #008080; text-decoration-color: #008080; font-weight: bold\">0</span> in, <span style=\"color: #008080; text-decoration-color: #008080; font-weight: bold\">6</span> out<span style=\"font-weight: bold\">)</span>\n",
       "   <span style=\"color: #008080; text-decoration-color: #008080; font-weight: bold\">9</span> playback, ALSA <span style=\"font-weight: bold\">(</span><span style=\"color: #008080; text-decoration-color: #008080; font-weight: bold\">0</span> in, <span style=\"color: #008080; text-decoration-color: #008080; font-weight: bold\">128</span> out<span style=\"font-weight: bold\">)</span>\n",
       "  <span style=\"color: #008080; text-decoration-color: #008080; font-weight: bold\">10</span> capture, ALSA <span style=\"font-weight: bold\">(</span><span style=\"color: #008080; text-decoration-color: #008080; font-weight: bold\">128</span> in, <span style=\"color: #008080; text-decoration-color: #008080; font-weight: bold\">0</span> out<span style=\"font-weight: bold\">)</span>\n",
       "  <span style=\"color: #008080; text-decoration-color: #008080; font-weight: bold\">11</span> dmixed, ALSA <span style=\"font-weight: bold\">(</span><span style=\"color: #008080; text-decoration-color: #008080; font-weight: bold\">0</span> in, <span style=\"color: #008080; text-decoration-color: #008080; font-weight: bold\">2</span> out<span style=\"font-weight: bold\">)</span>\n",
       "  <span style=\"color: #008080; text-decoration-color: #008080; font-weight: bold\">12</span> array, ALSA <span style=\"font-weight: bold\">(</span><span style=\"color: #008080; text-decoration-color: #008080; font-weight: bold\">2</span> in, <span style=\"color: #008080; text-decoration-color: #008080; font-weight: bold\">0</span> out<span style=\"font-weight: bold\">)</span>\n",
       "  <span style=\"color: #008080; text-decoration-color: #008080; font-weight: bold\">13</span> dmix, ALSA <span style=\"font-weight: bold\">(</span><span style=\"color: #008080; text-decoration-color: #008080; font-weight: bold\">0</span> in, <span style=\"color: #008080; text-decoration-color: #008080; font-weight: bold\">2</span> out<span style=\"font-weight: bold\">)</span>\n",
       "* <span style=\"color: #008080; text-decoration-color: #008080; font-weight: bold\">14</span> default, ALSA <span style=\"font-weight: bold\">(</span><span style=\"color: #008080; text-decoration-color: #008080; font-weight: bold\">128</span> in, <span style=\"color: #008080; text-decoration-color: #008080; font-weight: bold\">128</span> out<span style=\"font-weight: bold\">)</span>\n",
       "</pre>\n"
      ],
      "text/plain": [
       "   \u001b[1;36m0\u001b[0m bcm2835 Headphones: - \u001b[1m(\u001b[0mhw:\u001b[1;36m0\u001b[0m,\u001b[1;36m0\u001b[0m\u001b[1m)\u001b[0m, ALSA \u001b[1m(\u001b[0m\u001b[1;36m0\u001b[0m in, \u001b[1;36m8\u001b[0m out\u001b[1m)\u001b[0m\n",
       "   \u001b[1;36m1\u001b[0m seeed-2mic-voicecard: bcm2835-i2s-wm8960-hifi wm8960-hifi-\u001b[1;36m0\u001b[0m \u001b[1m(\u001b[0mhw:\u001b[1;36m2\u001b[0m,\u001b[1;36m0\u001b[0m\u001b[1m)\u001b[0m, ALSA \u001b[1m(\u001b[0m\u001b[1;36m2\u001b[0m in, \u001b[1;36m2\u001b[0m out\u001b[1m)\u001b[0m\n",
       "   \u001b[1;36m2\u001b[0m sysdefault, ALSA \u001b[1m(\u001b[0m\u001b[1;36m0\u001b[0m in, \u001b[1;36m128\u001b[0m out\u001b[1m)\u001b[0m\n",
       "   \u001b[1;36m3\u001b[0m lavrate, ALSA \u001b[1m(\u001b[0m\u001b[1;36m0\u001b[0m in, \u001b[1;36m128\u001b[0m out\u001b[1m)\u001b[0m\n",
       "   \u001b[1;36m4\u001b[0m samplerate, ALSA \u001b[1m(\u001b[0m\u001b[1;36m0\u001b[0m in, \u001b[1;36m128\u001b[0m out\u001b[1m)\u001b[0m\n",
       "   \u001b[1;36m5\u001b[0m speexrate, ALSA \u001b[1m(\u001b[0m\u001b[1;36m0\u001b[0m in, \u001b[1;36m128\u001b[0m out\u001b[1m)\u001b[0m\n",
       "   \u001b[1;36m6\u001b[0m speex, ALSA \u001b[1m(\u001b[0m\u001b[1;36m0\u001b[0m in, \u001b[1;36m1\u001b[0m out\u001b[1m)\u001b[0m\n",
       "   \u001b[1;36m7\u001b[0m upmix, ALSA \u001b[1m(\u001b[0m\u001b[1;36m0\u001b[0m in, \u001b[1;36m8\u001b[0m out\u001b[1m)\u001b[0m\n",
       "   \u001b[1;36m8\u001b[0m vdownmix, ALSA \u001b[1m(\u001b[0m\u001b[1;36m0\u001b[0m in, \u001b[1;36m6\u001b[0m out\u001b[1m)\u001b[0m\n",
       "   \u001b[1;36m9\u001b[0m playback, ALSA \u001b[1m(\u001b[0m\u001b[1;36m0\u001b[0m in, \u001b[1;36m128\u001b[0m out\u001b[1m)\u001b[0m\n",
       "  \u001b[1;36m10\u001b[0m capture, ALSA \u001b[1m(\u001b[0m\u001b[1;36m128\u001b[0m in, \u001b[1;36m0\u001b[0m out\u001b[1m)\u001b[0m\n",
       "  \u001b[1;36m11\u001b[0m dmixed, ALSA \u001b[1m(\u001b[0m\u001b[1;36m0\u001b[0m in, \u001b[1;36m2\u001b[0m out\u001b[1m)\u001b[0m\n",
       "  \u001b[1;36m12\u001b[0m array, ALSA \u001b[1m(\u001b[0m\u001b[1;36m2\u001b[0m in, \u001b[1;36m0\u001b[0m out\u001b[1m)\u001b[0m\n",
       "  \u001b[1;36m13\u001b[0m dmix, ALSA \u001b[1m(\u001b[0m\u001b[1;36m0\u001b[0m in, \u001b[1;36m2\u001b[0m out\u001b[1m)\u001b[0m\n",
       "* \u001b[1;36m14\u001b[0m default, ALSA \u001b[1m(\u001b[0m\u001b[1;36m128\u001b[0m in, \u001b[1;36m128\u001b[0m out\u001b[1m)\u001b[0m\n"
      ]
     },
     "metadata": {},
     "output_type": "display_data"
    }
   ],
   "source": [
    "import sounddevice as sd\n",
    "import numpy as np\n",
    "from scipy.io.wavfile import write\n",
    "import matplotlib.pyplot as plt\n",
    "\n",
    "print(sd.query_devices())"
   ]
  },
  {
   "cell_type": "code",
   "execution_count": 13,
   "id": "ac989df5-d040-4c8c-bcc2-2b154c3e60c5",
   "metadata": {},
   "outputs": [],
   "source": [
    "PICOVOICE_API_KEY=os.environ['PICOVOICE_API_KEY']\n",
    "OPENAI_API_KEY=os.environ['OPENAI_API_KEY']"
   ]
  },
  {
   "cell_type": "code",
   "execution_count": 14,
   "id": "352c0db6-31e8-40d3-8e1e-6438be14c6ca",
   "metadata": {},
   "outputs": [],
   "source": [
    "DEVICE = \"seeed-2mic-voicecard\"\n",
    "audio_file = \"output_3.wav\""
   ]
  },
  {
   "cell_type": "code",
   "execution_count": 15,
   "id": "aa109e46-64e3-42f7-950b-fa2d4b0420e5",
   "metadata": {},
   "outputs": [
    {
     "data": {
      "text/html": [
       "<pre style=\"white-space:pre;overflow-x:auto;line-height:normal;font-family:Menlo,'DejaVu Sans Mono',consolas,'Courier New',monospace\">Recorded shape:\n",
       "<span style=\"font-weight: bold\">(</span><span style=\"color: #008080; text-decoration-color: #008080; font-weight: bold\">480000</span>, <span style=\"color: #008080; text-decoration-color: #008080; font-weight: bold\">1</span><span style=\"font-weight: bold\">)</span>\n",
       "</pre>\n"
      ],
      "text/plain": [
       "Recorded shape:\n",
       "\u001b[1m(\u001b[0m\u001b[1;36m480000\u001b[0m, \u001b[1;36m1\u001b[0m\u001b[1m)\u001b[0m\n"
      ]
     },
     "metadata": {},
     "output_type": "display_data"
    }
   ],
   "source": [
    "# Record 5 seconds of audio\n",
    "duration = 10  \n",
    "samplerate = 48000  # matches openWakeWord default\n",
    "recording = sd.rec(int(duration * samplerate), \n",
    "                   samplerate=samplerate, \n",
    "                   channels=1, \n",
    "                   dtype='int16', \n",
    "                   device=DEVICE)\n",
    "sd.wait()\n",
    "\n",
    "print(\"Recorded shape:\", recording.shape)"
   ]
  },
  {
   "cell_type": "code",
   "execution_count": 16,
   "id": "6764b20d-0045-41ba-9b27-a324a94790e9",
   "metadata": {},
   "outputs": [
    {
     "data": {
      "text/html": [
       "<pre style=\"white-space:pre;overflow-x:auto;line-height:normal;font-family:Menlo,'DejaVu Sans Mono',consolas,'Courier New',monospace\">Saved as output_3.wav\n",
       "</pre>\n"
      ],
      "text/plain": [
       "Saved as output_3.wav\n"
      ]
     },
     "metadata": {},
     "output_type": "display_data"
    }
   ],
   "source": [
    "# Play back the recorded audio\n",
    "sd.play(recording, samplerate=samplerate, device=DEVICE)\n",
    "sd.wait()\n",
    "write(audio_file,samplerate, recording)\n",
    "print(f\"Saved as {audio_file}\")"
   ]
  },
  {
   "cell_type": "code",
   "execution_count": 17,
   "id": "0f4c6f88-29c9-4fd1-bf58-64b8dfd1402a",
   "metadata": {},
   "outputs": [
    {
     "name": "stdout",
     "output_type": "stream",
     "text": [
      "total 2.8M\n",
      "drwxr-xr-x 3 rsilveira79 rsilveira79 4.0K Sep  5 20:23 .\n",
      "drwxr-xr-x 5 rsilveira79 rsilveira79 4.0K Sep  5 16:41 ..\n",
      "-rw-r--r-- 1 rsilveira79 rsilveira79  16K Sep  5 20:23 0.test_audio.ipynb\n",
      "drwxr-xr-x 2 rsilveira79 rsilveira79 4.0K Sep  5 16:56 .ipynb_checkpoints\n",
      "-rw-r--r-- 1 rsilveira79 rsilveira79 938K Sep  5 17:12 output_2.wav\n",
      "-rw-r--r-- 1 rsilveira79 rsilveira79 938K Sep  5 20:24 output_3.wav\n",
      "-rw-r--r-- 1 rsilveira79 rsilveira79 938K Sep  5 17:10 output.wav\n"
     ]
    }
   ],
   "source": [
    "!ls -lah"
   ]
  },
  {
   "cell_type": "code",
   "execution_count": 18,
   "id": "24dc59d0-47d3-4f6c-b414-931a17b16b25",
   "metadata": {},
   "outputs": [],
   "source": [
    "## Plot audio "
   ]
  },
  {
   "cell_type": "code",
   "execution_count": 19,
   "id": "7233a191-18e2-49b5-90dd-153f488e9ae1",
   "metadata": {},
   "outputs": [],
   "source": [
    "audio_data = recording.flatten()\n",
    "time = np.arange(audio_data.shape[0]) / samplerate"
   ]
  },
  {
   "cell_type": "code",
   "execution_count": 28,
   "id": "7604b8ba-7024-4e32-9b9d-1debe59a4c45",
   "metadata": {},
   "outputs": [
    {
     "data": {
      "image/png": "[encoded data removed]",
      "text/plain": [
       "<Figure size 1000x400 with 1 Axes>"
      ]
     },
     "metadata": {},
     "output_type": "display_data"
    }
   ],
   "source": [
    "# Plot waveform\n",
    "plt.figure(figsize=(10, 4))\n",
    "plt.plot(time, audio_data, color='blue')\n",
    "plt.title(\"Audio Waveform\")\n",
    "plt.xlabel(\"Time [s]\")\n",
    "plt.ylabel(\"Amplitude\")\n",
    "plt.grid(True)\n",
    "plt.show()"
   ]
  },
  {
   "cell_type": "markdown",
   "id": "908dfd8f-daa5-4fd3-b2a7-33585c8b6a5b",
   "metadata": {},
   "source": [
    "## RGB LEDs"
   ]
  },
  {
   "cell_type": "code",
   "execution_count": 32,
   "id": "1a282c71-1041-42f9-80c5-315b0782683d",
   "metadata": {},
   "outputs": [],
   "source": [
    "#!uv add apa102-pi"
   ]
  },
  {
   "cell_type": "code",
   "execution_count": 35,
   "id": "38dd5df3-b08b-47df-b4a7-e68b329f0336",
   "metadata": {},
   "outputs": [
    {
     "ename": "ModuleNotFoundError",
     "evalue": "No module named 'apa102'",
     "output_type": "error",
     "traceback": [
      "\u001b[31m---------------------------------------------------------------------------\u001b[39m",
      "\u001b[31mModuleNotFoundError\u001b[39m                       Traceback (most recent call last)",
      "\u001b[36mCell\u001b[39m\u001b[36m \u001b[39m\u001b[32mIn[35]\u001b[39m\u001b[32m, line 1\u001b[39m\n\u001b[32m----> \u001b[39m\u001b[32m1\u001b[39m \u001b[38;5;28;01mfrom\u001b[39;00m\u001b[38;5;250m \u001b[39m\u001b[34;01mapa102\u001b[39;00m\u001b[38;5;250m \u001b[39m\u001b[38;5;28;01mimport\u001b[39;00m APA102\n\u001b[32m      2\u001b[39m \u001b[38;5;28;01mimport\u001b[39;00m\u001b[38;5;250m \u001b[39m\u001b[34;01mtime\u001b[39;00m\n\u001b[32m      4\u001b[39m \u001b[38;5;66;03m# Initialize the LED strip (3 LEDs)\u001b[39;00m\n",
      "\u001b[31mModuleNotFoundError\u001b[39m: No module named 'apa102'"
     ]
    }
   ],
   "source": [
    "from apa102 import APA102\n",
    "import time\n",
    "\n",
    "# Initialize the LED strip (3 LEDs)\n",
    "led = APA102(num_led=3)\n",
    "\n",
    "# Define colors\n",
    "RED = 0xFF0000\n",
    "BLUE = 0x0000FF\n",
    "\n",
    "# Blink LEDs in red and blue\n",
    "for _ in range(5):\n",
    "    led.update([RED, RED, RED])  # Set all LEDs to red\n",
    "    time.sleep(0.5)\n",
    "    led.update([BLUE, BLUE, BLUE])  # Set all LEDs to blue\n",
    "    time.sleep(0.5)\n",
    "\n",
    "# Turn off LEDs\n",
    "led.update([0x000000, 0x000000, 0x000000])\n",
    "led.cleanup()\n"
   ]
  },
  {
   "cell_type": "code",
   "execution_count": null,
   "id": "0940c631-83f4-471a-af86-a4fcc73b4b2c",
   "metadata": {},
   "outputs": [],
   "source": []
  },
  {
   "cell_type": "code",
   "execution_count": null,
   "id": "5cca5729-ab51-4648-b6c2-4f08b61777d3",
   "metadata": {},
   "outputs": [],
   "source": []
  },
  {
   "cell_type": "markdown",
   "id": "b46885c8-05cc-451d-9954-1cffca969490",
   "metadata": {},
   "source": [
    "## Wakeup word"
   ]
  },
  {
   "cell_type": "code",
   "execution_count": 29,
   "id": "b463f3bc-7ec1-4f4a-8b6c-31929a079b0c",
   "metadata": {},
   "outputs": [
    {
     "data": {
      "text/html": [
       "<pre style=\"white-space:pre;overflow-x:auto;line-height:normal;font-family:Menlo,'DejaVu Sans Mono',consolas,'Courier New',monospace\"><span style=\"font-weight: bold\">{</span>\n",
       "    <span style=\"color: #008000; text-decoration-color: #008000\">'alexa'</span>,\n",
       "    <span style=\"color: #008000; text-decoration-color: #008000\">'hey google'</span>,\n",
       "    <span style=\"color: #008000; text-decoration-color: #008000\">'hey barista'</span>,\n",
       "    <span style=\"color: #008000; text-decoration-color: #008000\">'blueberry'</span>,\n",
       "    <span style=\"color: #008000; text-decoration-color: #008000\">'hey siri'</span>,\n",
       "    <span style=\"color: #008000; text-decoration-color: #008000\">'americano'</span>,\n",
       "    <span style=\"color: #008000; text-decoration-color: #008000\">'porcupine'</span>,\n",
       "    <span style=\"color: #008000; text-decoration-color: #008000\">'computer'</span>,\n",
       "    <span style=\"color: #008000; text-decoration-color: #008000\">'bumblebee'</span>,\n",
       "    <span style=\"color: #008000; text-decoration-color: #008000\">'picovoice'</span>,\n",
       "    <span style=\"color: #008000; text-decoration-color: #008000\">'grasshopper'</span>,\n",
       "    <span style=\"color: #008000; text-decoration-color: #008000\">'grapefruit'</span>,\n",
       "    <span style=\"color: #008000; text-decoration-color: #008000\">'pico clock'</span>,\n",
       "    <span style=\"color: #008000; text-decoration-color: #008000\">'terminator'</span>,\n",
       "    <span style=\"color: #008000; text-decoration-color: #008000\">'ok google'</span>,\n",
       "    <span style=\"color: #008000; text-decoration-color: #008000\">'jarvis'</span>\n",
       "<span style=\"font-weight: bold\">}</span>\n",
       "</pre>\n"
      ],
      "text/plain": [
       "\u001b[1m{\u001b[0m\n",
       "    \u001b[32m'alexa'\u001b[0m,\n",
       "    \u001b[32m'hey google'\u001b[0m,\n",
       "    \u001b[32m'hey barista'\u001b[0m,\n",
       "    \u001b[32m'blueberry'\u001b[0m,\n",
       "    \u001b[32m'hey siri'\u001b[0m,\n",
       "    \u001b[32m'americano'\u001b[0m,\n",
       "    \u001b[32m'porcupine'\u001b[0m,\n",
       "    \u001b[32m'computer'\u001b[0m,\n",
       "    \u001b[32m'bumblebee'\u001b[0m,\n",
       "    \u001b[32m'picovoice'\u001b[0m,\n",
       "    \u001b[32m'grasshopper'\u001b[0m,\n",
       "    \u001b[32m'grapefruit'\u001b[0m,\n",
       "    \u001b[32m'pico clock'\u001b[0m,\n",
       "    \u001b[32m'terminator'\u001b[0m,\n",
       "    \u001b[32m'ok google'\u001b[0m,\n",
       "    \u001b[32m'jarvis'\u001b[0m\n",
       "\u001b[1m}\u001b[0m\n"
      ]
     },
     "metadata": {},
     "output_type": "display_data"
    }
   ],
   "source": [
    "import pvporcupine\n",
    "print(pvporcupine.KEYWORDS)"
   ]
  },
  {
   "cell_type": "code",
   "execution_count": null,
   "id": "6e72c08f-8c5a-4f86-bbbe-e70e0e554022",
   "metadata": {},
   "outputs": [],
   "source": []
  },
  {
   "cell_type": "code",
   "execution_count": null,
   "id": "a57e7cf6-4979-47d1-acf8-9a9514404a63",
   "metadata": {},
   "outputs": [],
   "source": [
    "device_index = 1  # change to your mic index from sd.query_devices()\n",
    "\n",
    "## Check Sample Rates\n",
    "for rate in [8000, 16000, 22050, 44100, 48000]:\n",
    "    try:\n",
    "        sd.check_input_settings(device=device_index, samplerate=rate, channels=1)\n",
    "        print(f\"✅ Supported: {rate} Hz\")\n",
    "    except Exception as e:\n",
    "        print(f\"❌ Not supported: {rate} Hz -> {e}\")"
   ]
  },
  {
   "cell_type": "code",
   "execution_count": null,
   "id": "e1f2d5ff-b929-4103-970e-a9cc360cb298",
   "metadata": {},
   "outputs": [],
   "source": []
  }
 ],
 "metadata": {
  "kernelspec": {
   "display_name": "Python 3 (ipykernel)",
   "language": "python",
   "name": "python3"
  },
  "language_info": {
   "codemirror_mode": {
    "name": "ipython",
    "version": 3
   },
   "file_extension": ".py",
   "mimetype": "text/x-python",
   "name": "python",
   "nbconvert_exporter": "python",
   "pygments_lexer": "ipython3",
   "version": "3.11.2"
  }
 },
 "nbformat": 4,
 "nbformat_minor": 5
}
