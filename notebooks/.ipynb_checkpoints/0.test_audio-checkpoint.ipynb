{
 "cells": [
  {
   "cell_type": "code",
   "execution_count": 1,
   "id": "848f028c-82f5-41f7-bc05-aa6fb797f4e4",
   "metadata": {},
   "outputs": [],
   "source": [
    "%load_ext autoreload\n",
    "%autoreload 2"
   ]
  },
  {
   "cell_type": "code",
   "execution_count": 3,
   "id": "eb71fee1-d2e1-4d35-af24-943f469e93b5",
   "metadata": {},
   "outputs": [],
   "source": [
    "#!uv add scipy\n",
    "#!uv add matplotlib\n",
    "#!uv add rich\n",
    "#!uv add pvporcupine"
   ]
  },
  {
   "cell_type": "code",
   "execution_count": 4,
   "id": "ec1592ab-47dd-4d41-829f-e2ddec1ec32d",
   "metadata": {},
   "outputs": [],
   "source": [
    "import os\n",
    "from rich import print"
   ]
  },
  {
   "cell_type": "code",
   "execution_count": 5,
   "id": "b6d289ff-da13-47c4-9122-b7c8e901d2b1",
   "metadata": {},
   "outputs": [
    {
     "data": {
      "text/html": [
       "<pre style=\"white-space:pre;overflow-x:auto;line-height:normal;font-family:Menlo,'DejaVu Sans Mono',consolas,'Courier New',monospace\"><span style=\"color: #008080; text-decoration-color: #008080; font-weight: bold\">0.2</span>.<span style=\"color: #008080; text-decoration-color: #008080; font-weight: bold\">14</span>\n",
       "</pre>\n"
      ],
      "text/plain": [
       "\u001b[1;36m0.2\u001b[0m.\u001b[1;36m14\u001b[0m\n"
      ]
     },
     "metadata": {},
     "output_type": "display_data"
    }
   ],
   "source": [
    "import pyaudio\n",
    "print(pyaudio.__version__)"
   ]
  },
  {
   "cell_type": "code",
   "execution_count": 6,
   "id": "e47cb955-7ebd-443a-affd-986936c2bf99",
   "metadata": {},
   "outputs": [
    {
     "data": {
      "text/html": [
       "<pre style=\"white-space:pre;overflow-x:auto;line-height:normal;font-family:Menlo,'DejaVu Sans Mono',consolas,'Courier New',monospace\">   <span style=\"color: #008080; text-decoration-color: #008080; font-weight: bold\">0</span> bcm2835 Headphones: - <span style=\"font-weight: bold\">(</span>hw:<span style=\"color: #008080; text-decoration-color: #008080; font-weight: bold\">0</span>,<span style=\"color: #008080; text-decoration-color: #008080; font-weight: bold\">0</span><span style=\"font-weight: bold\">)</span>, ALSA <span style=\"font-weight: bold\">(</span><span style=\"color: #008080; text-decoration-color: #008080; font-weight: bold\">0</span> in, <span style=\"color: #008080; text-decoration-color: #008080; font-weight: bold\">8</span> out<span style=\"font-weight: bold\">)</span>\n",
       "   <span style=\"color: #008080; text-decoration-color: #008080; font-weight: bold\">1</span> seeed-2mic-voicecard: bcm2835-i2s-wm8960-hifi wm8960-hifi-<span style=\"color: #008080; text-decoration-color: #008080; font-weight: bold\">0</span> <span style=\"font-weight: bold\">(</span>hw:<span style=\"color: #008080; text-decoration-color: #008080; font-weight: bold\">2</span>,<span style=\"color: #008080; text-decoration-color: #008080; font-weight: bold\">0</span><span style=\"font-weight: bold\">)</span>, ALSA <span style=\"font-weight: bold\">(</span><span style=\"color: #008080; text-decoration-color: #008080; font-weight: bold\">2</span> in, <span style=\"color: #008080; text-decoration-color: #008080; font-weight: bold\">2</span> out<span style=\"font-weight: bold\">)</span>\n",
       "   <span style=\"color: #008080; text-decoration-color: #008080; font-weight: bold\">2</span> sysdefault, ALSA <span style=\"font-weight: bold\">(</span><span style=\"color: #008080; text-decoration-color: #008080; font-weight: bold\">0</span> in, <span style=\"color: #008080; text-decoration-color: #008080; font-weight: bold\">128</span> out<span style=\"font-weight: bold\">)</span>\n",
       "   <span style=\"color: #008080; text-decoration-color: #008080; font-weight: bold\">3</span> lavrate, ALSA <span style=\"font-weight: bold\">(</span><span style=\"color: #008080; text-decoration-color: #008080; font-weight: bold\">0</span> in, <span style=\"color: #008080; text-decoration-color: #008080; font-weight: bold\">128</span> out<span style=\"font-weight: bold\">)</span>\n",
       "   <span style=\"color: #008080; text-decoration-color: #008080; font-weight: bold\">4</span> samplerate, ALSA <span style=\"font-weight: bold\">(</span><span style=\"color: #008080; text-decoration-color: #008080; font-weight: bold\">0</span> in, <span style=\"color: #008080; text-decoration-color: #008080; font-weight: bold\">128</span> out<span style=\"font-weight: bold\">)</span>\n",
       "   <span style=\"color: #008080; text-decoration-color: #008080; font-weight: bold\">5</span> speexrate, ALSA <span style=\"font-weight: bold\">(</span><span style=\"color: #008080; text-decoration-color: #008080; font-weight: bold\">0</span> in, <span style=\"color: #008080; text-decoration-color: #008080; font-weight: bold\">128</span> out<span style=\"font-weight: bold\">)</span>\n",
       "   <span style=\"color: #008080; text-decoration-color: #008080; font-weight: bold\">6</span> speex, ALSA <span style=\"font-weight: bold\">(</span><span style=\"color: #008080; text-decoration-color: #008080; font-weight: bold\">0</span> in, <span style=\"color: #008080; text-decoration-color: #008080; font-weight: bold\">1</span> out<span style=\"font-weight: bold\">)</span>\n",
       "   <span style=\"color: #008080; text-decoration-color: #008080; font-weight: bold\">7</span> upmix, ALSA <span style=\"font-weight: bold\">(</span><span style=\"color: #008080; text-decoration-color: #008080; font-weight: bold\">0</span> in, <span style=\"color: #008080; text-decoration-color: #008080; font-weight: bold\">8</span> out<span style=\"font-weight: bold\">)</span>\n",
       "   <span style=\"color: #008080; text-decoration-color: #008080; font-weight: bold\">8</span> vdownmix, ALSA <span style=\"font-weight: bold\">(</span><span style=\"color: #008080; text-decoration-color: #008080; font-weight: bold\">0</span> in, <span style=\"color: #008080; text-decoration-color: #008080; font-weight: bold\">6</span> out<span style=\"font-weight: bold\">)</span>\n",
       "   <span style=\"color: #008080; text-decoration-color: #008080; font-weight: bold\">9</span> playback, ALSA <span style=\"font-weight: bold\">(</span><span style=\"color: #008080; text-decoration-color: #008080; font-weight: bold\">0</span> in, <span style=\"color: #008080; text-decoration-color: #008080; font-weight: bold\">128</span> out<span style=\"font-weight: bold\">)</span>\n",
       "  <span style=\"color: #008080; text-decoration-color: #008080; font-weight: bold\">10</span> capture, ALSA <span style=\"font-weight: bold\">(</span><span style=\"color: #008080; text-decoration-color: #008080; font-weight: bold\">128</span> in, <span style=\"color: #008080; text-decoration-color: #008080; font-weight: bold\">0</span> out<span style=\"font-weight: bold\">)</span>\n",
       "  <span style=\"color: #008080; text-decoration-color: #008080; font-weight: bold\">11</span> dmixed, ALSA <span style=\"font-weight: bold\">(</span><span style=\"color: #008080; text-decoration-color: #008080; font-weight: bold\">0</span> in, <span style=\"color: #008080; text-decoration-color: #008080; font-weight: bold\">2</span> out<span style=\"font-weight: bold\">)</span>\n",
       "  <span style=\"color: #008080; text-decoration-color: #008080; font-weight: bold\">12</span> array, ALSA <span style=\"font-weight: bold\">(</span><span style=\"color: #008080; text-decoration-color: #008080; font-weight: bold\">2</span> in, <span style=\"color: #008080; text-decoration-color: #008080; font-weight: bold\">0</span> out<span style=\"font-weight: bold\">)</span>\n",
       "  <span style=\"color: #008080; text-decoration-color: #008080; font-weight: bold\">13</span> dmix, ALSA <span style=\"font-weight: bold\">(</span><span style=\"color: #008080; text-decoration-color: #008080; font-weight: bold\">0</span> in, <span style=\"color: #008080; text-decoration-color: #008080; font-weight: bold\">2</span> out<span style=\"font-weight: bold\">)</span>\n",
       "* <span style=\"color: #008080; text-decoration-color: #008080; font-weight: bold\">14</span> default, ALSA <span style=\"font-weight: bold\">(</span><span style=\"color: #008080; text-decoration-color: #008080; font-weight: bold\">128</span> in, <span style=\"color: #008080; text-decoration-color: #008080; font-weight: bold\">128</span> out<span style=\"font-weight: bold\">)</span>\n",
       "</pre>\n"
      ],
      "text/plain": [
       "   \u001b[1;36m0\u001b[0m bcm2835 Headphones: - \u001b[1m(\u001b[0mhw:\u001b[1;36m0\u001b[0m,\u001b[1;36m0\u001b[0m\u001b[1m)\u001b[0m, ALSA \u001b[1m(\u001b[0m\u001b[1;36m0\u001b[0m in, \u001b[1;36m8\u001b[0m out\u001b[1m)\u001b[0m\n",
       "   \u001b[1;36m1\u001b[0m seeed-2mic-voicecard: bcm2835-i2s-wm8960-hifi wm8960-hifi-\u001b[1;36m0\u001b[0m \u001b[1m(\u001b[0mhw:\u001b[1;36m2\u001b[0m,\u001b[1;36m0\u001b[0m\u001b[1m)\u001b[0m, ALSA \u001b[1m(\u001b[0m\u001b[1;36m2\u001b[0m in, \u001b[1;36m2\u001b[0m out\u001b[1m)\u001b[0m\n",
       "   \u001b[1;36m2\u001b[0m sysdefault, ALSA \u001b[1m(\u001b[0m\u001b[1;36m0\u001b[0m in, \u001b[1;36m128\u001b[0m out\u001b[1m)\u001b[0m\n",
       "   \u001b[1;36m3\u001b[0m lavrate, ALSA \u001b[1m(\u001b[0m\u001b[1;36m0\u001b[0m in, \u001b[1;36m128\u001b[0m out\u001b[1m)\u001b[0m\n",
       "   \u001b[1;36m4\u001b[0m samplerate, ALSA \u001b[1m(\u001b[0m\u001b[1;36m0\u001b[0m in, \u001b[1;36m128\u001b[0m out\u001b[1m)\u001b[0m\n",
       "   \u001b[1;36m5\u001b[0m speexrate, ALSA \u001b[1m(\u001b[0m\u001b[1;36m0\u001b[0m in, \u001b[1;36m128\u001b[0m out\u001b[1m)\u001b[0m\n",
       "   \u001b[1;36m6\u001b[0m speex, ALSA \u001b[1m(\u001b[0m\u001b[1;36m0\u001b[0m in, \u001b[1;36m1\u001b[0m out\u001b[1m)\u001b[0m\n",
       "   \u001b[1;36m7\u001b[0m upmix, ALSA \u001b[1m(\u001b[0m\u001b[1;36m0\u001b[0m in, \u001b[1;36m8\u001b[0m out\u001b[1m)\u001b[0m\n",
       "   \u001b[1;36m8\u001b[0m vdownmix, ALSA \u001b[1m(\u001b[0m\u001b[1;36m0\u001b[0m in, \u001b[1;36m6\u001b[0m out\u001b[1m)\u001b[0m\n",
       "   \u001b[1;36m9\u001b[0m playback, ALSA \u001b[1m(\u001b[0m\u001b[1;36m0\u001b[0m in, \u001b[1;36m128\u001b[0m out\u001b[1m)\u001b[0m\n",
       "  \u001b[1;36m10\u001b[0m capture, ALSA \u001b[1m(\u001b[0m\u001b[1;36m128\u001b[0m in, \u001b[1;36m0\u001b[0m out\u001b[1m)\u001b[0m\n",
       "  \u001b[1;36m11\u001b[0m dmixed, ALSA \u001b[1m(\u001b[0m\u001b[1;36m0\u001b[0m in, \u001b[1;36m2\u001b[0m out\u001b[1m)\u001b[0m\n",
       "  \u001b[1;36m12\u001b[0m array, ALSA \u001b[1m(\u001b[0m\u001b[1;36m2\u001b[0m in, \u001b[1;36m0\u001b[0m out\u001b[1m)\u001b[0m\n",
       "  \u001b[1;36m13\u001b[0m dmix, ALSA \u001b[1m(\u001b[0m\u001b[1;36m0\u001b[0m in, \u001b[1;36m2\u001b[0m out\u001b[1m)\u001b[0m\n",
       "* \u001b[1;36m14\u001b[0m default, ALSA \u001b[1m(\u001b[0m\u001b[1;36m128\u001b[0m in, \u001b[1;36m128\u001b[0m out\u001b[1m)\u001b[0m\n"
      ]
     },
     "metadata": {},
     "output_type": "display_data"
    }
   ],
   "source": [
    "import sounddevice as sd\n",
    "import numpy as np\n",
    "from scipy.io.wavfile import write\n",
    "import matplotlib.pyplot as plt\n",
    "\n",
    "print(sd.query_devices())"
   ]
  },
  {
   "cell_type": "code",
   "execution_count": 7,
   "id": "ac989df5-d040-4c8c-bcc2-2b154c3e60c5",
   "metadata": {},
   "outputs": [],
   "source": [
    "PICOVOICE_API_KEY=os.environ['PICOVOICE_API_KEY']\n",
    "OPENAI_API_KEY=os.environ['OPENAI_API_KEY']"
   ]
  },
  {
   "cell_type": "code",
   "execution_count": 8,
   "id": "352c0db6-31e8-40d3-8e1e-6438be14c6ca",
   "metadata": {},
   "outputs": [],
   "source": [
    "DEVICE = \"seeed-2mic-voicecard\"\n",
    "audio_file = \"output_3.wav\""
   ]
  },
  {
   "cell_type": "code",
   "execution_count": null,
   "id": "aa109e46-64e3-42f7-950b-fa2d4b0420e5",
   "metadata": {},
   "outputs": [],
   "source": [
    "# Record 5 seconds of audio\n",
    "duration = 5  \n",
    "samplerate = 48000  # matches openWakeWord default\n",
    "recording = sd.rec(int(duration * samplerate), \n",
    "                   samplerate=samplerate, \n",
    "                   channels=1, \n",
    "                   dtype='int16', \n",
    "                   device=DEVICE)\n",
    "sd.wait()\n",
    "\n",
    "print(\"Recorded shape:\", recording.shape)"
   ]
  },
  {
   "cell_type": "code",
   "execution_count": null,
   "id": "6764b20d-0045-41ba-9b27-a324a94790e9",
   "metadata": {},
   "outputs": [],
   "source": [
    "# Play back the recorded audio\n",
    "sd.play(recording, samplerate=samplerate, device=DEVICE)\n",
    "sd.wait()\n",
    "write(audio_file,samplerate, recording)\n",
    "print(f\"Saved as {audio_file}\")"
   ]
  },
  {
   "cell_type": "code",
   "execution_count": null,
   "id": "0f4c6f88-29c9-4fd1-bf58-64b8dfd1402a",
   "metadata": {},
   "outputs": [],
   "source": [
    "!ls -lah"
   ]
  },
  {
   "cell_type": "code",
   "execution_count": null,
   "id": "24dc59d0-47d3-4f6c-b414-931a17b16b25",
   "metadata": {},
   "outputs": [],
   "source": [
    "## Plot audio "
   ]
  },
  {
   "cell_type": "code",
   "execution_count": null,
   "id": "7233a191-18e2-49b5-90dd-153f488e9ae1",
   "metadata": {},
   "outputs": [],
   "source": [
    "audio_data = recording.flatten()\n",
    "time = np.arange(audio_data.shape[0]) / samplerate"
   ]
  },
  {
   "cell_type": "code",
   "execution_count": null,
   "id": "7604b8ba-7024-4e32-9b9d-1debe59a4c45",
   "metadata": {},
   "outputs": [],
   "source": [
    "# Plot waveform\n",
    "plt.figure(figsize=(10, 4))\n",
    "plt.plot(time, audio_data, color='blue')\n",
    "plt.title(\"Audio Waveform\")\n",
    "plt.xlabel(\"Time [s]\")\n",
    "plt.ylabel(\"Amplitude\")\n",
    "plt.grid(True)\n",
    "plt.show()"
   ]
  },
  {
   "cell_type": "markdown",
   "id": "908dfd8f-daa5-4fd3-b2a7-33585c8b6a5b",
   "metadata": {},
   "source": [
    "## RGB LEDs"
   ]
  },
  {
   "cell_type": "code",
   "execution_count": 9,
   "id": "0940c631-83f4-471a-af86-a4fcc73b4b2c",
   "metadata": {},
   "outputs": [],
   "source": [
    "import spidev\n",
    "import time"
   ]
  },
  {
   "cell_type": "code",
   "execution_count": 10,
   "id": "5cca5729-ab51-4648-b6c2-4f08b61777d3",
   "metadata": {},
   "outputs": [
    {
     "data": {
      "text/plain": [
       "'3.7'"
      ]
     },
     "execution_count": 10,
     "metadata": {},
     "output_type": "execute_result"
    }
   ],
   "source": [
    "spidev.__version__"
   ]
  },
  {
   "cell_type": "code",
   "execution_count": 83,
   "id": "8807bb2e-e0bd-46b1-b89a-b62a10223744",
   "metadata": {},
   "outputs": [],
   "source": [
    "spi = spidev.SpiDev()"
   ]
  },
  {
   "cell_type": "code",
   "execution_count": 84,
   "id": "4841c9a9-b352-4e02-a791-2afa3cff009e",
   "metadata": {},
   "outputs": [],
   "source": [
    "spi = spidev.SpiDev()\n",
    "spi.open(0, 0)\n",
    "spi.max_speed_hz = 8000000"
   ]
  },
  {
   "cell_type": "code",
   "execution_count": 106,
   "id": "cde2efd9-7070-4844-b736-cbcf4f95f674",
   "metadata": {},
   "outputs": [],
   "source": [
    "BRIGHTNESS_LEVELS = {\n",
    "    \"off\": 0,\n",
    "    \"very-low\": 5,\n",
    "    \"low\": 5,\n",
    "    \"mid\": 15,\n",
    "    \"mid-high\": 20,\n",
    "    \"full\": 31\n",
    "}\n",
    "\n",
    "COLORS = {\n",
    "    \"blue\": [255, 0, 0],\n",
    "    \"light_blue\": [230, 216, 173],\n",
    "    \"magenta\": [255, 0, 255],\n",
    "    \"yellow\": [0, 255, 255],\n",
    "    \"green\": [0, 255, 0],\n",
    "    \"light_green\": [144, 238, 144],\n",
    "    \"orange\": [0, 165, 255],\n",
    "    \"red\": [0, 0, 255]\n",
    "}"
   ]
  },
  {
   "cell_type": "code",
   "execution_count": 117,
   "id": "82cfde79-0266-4e18-8fe2-d18da7099c94",
   "metadata": {},
   "outputs": [],
   "source": [
    "def set_led_color(color: dict, brightness_mode: dict):\n",
    "    '''\n",
    "    Following APA102 SPI Protocol\n",
    "    # Start Frame: [0x00, 0x00, 0x00, 0x00]\n",
    "    # Format: [brightness, Blue, Green, Red]\n",
    "    # Brightness: 0b111xxxxx (0–31)\n",
    "    # End Frame: [0xFF, 0xFF, 0xFF, 0xFF]\n",
    "    '''\n",
    "    data = []\n",
    "    data += [0x00, 0x00, 0x00, 0x00]\n",
    "    brightness = [0b11100000 | brightness_mode]\n",
    "    for _ in range(3):  # 3 LEDs on the HAT\n",
    "        data += brightness + color\n",
    "    data += [0xFF, 0xFF, 0xFF, 0xFF]\n",
    "    spi.xfer2(data)"
   ]
  },
  {
   "cell_type": "code",
   "execution_count": 118,
   "id": "0645d4c7-27f9-450d-8b95-cf14aa3f09c1",
   "metadata": {},
   "outputs": [],
   "source": [
    "def breathe_color(color_name, cycles=3, step_delay=0.05):\n",
    "    color = COLORS[color_name]\n",
    "    # Smooth brightness ramp up and down\n",
    "    brightness_values = list(range(0, 32, 1)) + list(range(31, -1, -1))\n",
    "    for _ in range(cycles):\n",
    "        for b in brightness_values:\n",
    "            set_led_color(color, b)\n",
    "            time.sleep(step_delay)"
   ]
  },
  {
   "cell_type": "code",
   "execution_count": 122,
   "id": "04abe15a-42cb-48cc-a04f-2071d9b6a63e",
   "metadata": {},
   "outputs": [],
   "source": [
    "breathe_color(\"magenta\", cycles=10, step_delay=0.03)"
   ]
  },
  {
   "cell_type": "code",
   "execution_count": null,
   "id": "da93c351-ab31-4649-b941-8ba06549205e",
   "metadata": {},
   "outputs": [],
   "source": []
  },
  {
   "cell_type": "code",
   "execution_count": 91,
   "id": "492cb518-3146-476b-b88b-b727d041adb7",
   "metadata": {},
   "outputs": [],
   "source": [
    "set_led_color(COLORS['magenta'], BRIGHTNESS_LEVELS['mid'])"
   ]
  },
  {
   "cell_type": "code",
   "execution_count": 94,
   "id": "6aaacdaa-5466-4ed2-8d76-4093f1bb9b75",
   "metadata": {},
   "outputs": [],
   "source": [
    "set_led_color(COLORS['magenta'], BRIGHTNESS_LEVELS['full'])"
   ]
  },
  {
   "cell_type": "code",
   "execution_count": 98,
   "id": "e317619d-01f1-41d5-aadf-e85b781605cd",
   "metadata": {},
   "outputs": [],
   "source": [
    "set_led_color(COLORS['yellow'], BRIGHTNESS_LEVELS['low'])"
   ]
  },
  {
   "cell_type": "code",
   "execution_count": 93,
   "id": "74d31852-e98b-440d-be3b-a6b7bc4b9a65",
   "metadata": {},
   "outputs": [],
   "source": [
    "set_led_color(COLORS['magenta'], BRIGHTNESS_LEVELS['off'])"
   ]
  },
  {
   "cell_type": "code",
   "execution_count": null,
   "id": "bac15c1d-a4e1-4566-961f-32d02fa6e284",
   "metadata": {},
   "outputs": [],
   "source": []
  },
  {
   "cell_type": "code",
   "execution_count": 116,
   "id": "ba65fc53-c01a-4fc5-a21a-76a818705255",
   "metadata": {},
   "outputs": [
    {
     "data": {
      "text/html": [
       "<pre style=\"white-space:pre;overflow-x:auto;line-height:normal;font-family:Menlo,'DejaVu Sans Mono',consolas,'Courier New',monospace\">LED Colors: <span style=\"font-weight: bold\">[</span><span style=\"color: #008080; text-decoration-color: #008080; font-weight: bold\">0</span>, <span style=\"color: #008080; text-decoration-color: #008080; font-weight: bold\">0</span>, <span style=\"color: #008080; text-decoration-color: #008080; font-weight: bold\">0</span>, <span style=\"color: #008080; text-decoration-color: #008080; font-weight: bold\">0</span>, <span style=\"color: #008080; text-decoration-color: #008080; font-weight: bold\">229</span>, <span style=\"color: #008080; text-decoration-color: #008080; font-weight: bold\">0</span>, <span style=\"color: #008080; text-decoration-color: #008080; font-weight: bold\">0</span>, <span style=\"color: #008080; text-decoration-color: #008080; font-weight: bold\">255</span>, <span style=\"color: #008080; text-decoration-color: #008080; font-weight: bold\">229</span>, <span style=\"color: #008080; text-decoration-color: #008080; font-weight: bold\">255</span>, <span style=\"color: #008080; text-decoration-color: #008080; font-weight: bold\">0</span>, <span style=\"color: #008080; text-decoration-color: #008080; font-weight: bold\">255</span>, <span style=\"color: #008080; text-decoration-color: #008080; font-weight: bold\">229</span>, <span style=\"color: #008080; text-decoration-color: #008080; font-weight: bold\">0</span>, <span style=\"color: #008080; text-decoration-color: #008080; font-weight: bold\">255</span>, <span style=\"color: #008080; text-decoration-color: #008080; font-weight: bold\">255</span>, <span style=\"color: #008080; text-decoration-color: #008080; font-weight: bold\">255</span>, <span style=\"color: #008080; text-decoration-color: #008080; font-weight: bold\">255</span>, <span style=\"color: #008080; text-decoration-color: #008080; font-weight: bold\">255</span>, <span style=\"color: #008080; text-decoration-color: #008080; font-weight: bold\">255</span><span style=\"font-weight: bold\">]</span>\n",
       "</pre>\n"
      ],
      "text/plain": [
       "LED Colors: \u001b[1m[\u001b[0m\u001b[1;36m0\u001b[0m, \u001b[1;36m0\u001b[0m, \u001b[1;36m0\u001b[0m, \u001b[1;36m0\u001b[0m, \u001b[1;36m229\u001b[0m, \u001b[1;36m0\u001b[0m, \u001b[1;36m0\u001b[0m, \u001b[1;36m255\u001b[0m, \u001b[1;36m229\u001b[0m, \u001b[1;36m255\u001b[0m, \u001b[1;36m0\u001b[0m, \u001b[1;36m255\u001b[0m, \u001b[1;36m229\u001b[0m, \u001b[1;36m0\u001b[0m, \u001b[1;36m255\u001b[0m, \u001b[1;36m255\u001b[0m, \u001b[1;36m255\u001b[0m, \u001b[1;36m255\u001b[0m, \u001b[1;36m255\u001b[0m, \u001b[1;36m255\u001b[0m\u001b[1m]\u001b[0m\n"
      ]
     },
     "metadata": {},
     "output_type": "display_data"
    },
    {
     "data": {
      "text/plain": [
       "[0, 0, 0, 0, 0, 0, 0, 0, 0, 0, 0, 0, 0, 0, 0, 0, 0, 0, 0, 0]"
      ]
     },
     "execution_count": 116,
     "metadata": {},
     "output_type": "execute_result"
    }
   ],
   "source": [
    "data = []\n",
    "data += [0x00, 0x00, 0x00, 0x00]\n",
    "brightness = [0b11100000 | BRIGHTNESS_LEVELS['low']]\n",
    "data += brightness + COLORS['red']\n",
    "data += brightness + COLORS['magenta']\n",
    "data += brightness + COLORS['yellow']\n",
    "data += [0xFF, 0xFF, 0xFF, 0xFF]\n",
    "print(f\"LED Colors: {data}\")\n",
    "spi.xfer2(data)"
   ]
  },
  {
   "cell_type": "code",
   "execution_count": null,
   "id": "0e3b7020-a385-4282-84d6-d82bac0d8d27",
   "metadata": {},
   "outputs": [],
   "source": []
  },
  {
   "cell_type": "code",
   "execution_count": null,
   "id": "cbc197d2-ac42-4c66-a21a-d0906b399e99",
   "metadata": {},
   "outputs": [],
   "source": []
  },
  {
   "cell_type": "markdown",
   "id": "b46885c8-05cc-451d-9954-1cffca969490",
   "metadata": {},
   "source": [
    "## Wakeup word"
   ]
  },
  {
   "cell_type": "code",
   "execution_count": null,
   "id": "b463f3bc-7ec1-4f4a-8b6c-31929a079b0c",
   "metadata": {},
   "outputs": [],
   "source": [
    "import pvporcupine\n",
    "print(pvporcupine.KEYWORDS)"
   ]
  },
  {
   "cell_type": "code",
   "execution_count": null,
   "id": "6e72c08f-8c5a-4f86-bbbe-e70e0e554022",
   "metadata": {},
   "outputs": [],
   "source": []
  },
  {
   "cell_type": "code",
   "execution_count": null,
   "id": "a57e7cf6-4979-47d1-acf8-9a9514404a63",
   "metadata": {},
   "outputs": [],
   "source": [
    "device_index = 1  # change to your mic index from sd.query_devices()\n",
    "\n",
    "## Check Sample Rates\n",
    "for rate in [8000, 16000, 22050, 44100, 48000]:\n",
    "    try:\n",
    "        sd.check_input_settings(device=device_index, samplerate=rate, channels=1)\n",
    "        print(f\"✅ Supported: {rate} Hz\")\n",
    "    except Exception as e:\n",
    "        print(f\"❌ Not supported: {rate} Hz -> {e}\")"
   ]
  },
  {
   "cell_type": "code",
   "execution_count": null,
   "id": "e1f2d5ff-b929-4103-970e-a9cc360cb298",
   "metadata": {},
   "outputs": [],
   "source": []
  }
 ],
 "metadata": {
  "kernelspec": {
   "display_name": "Python 3 (ipykernel)",
   "language": "python",
   "name": "python3"
  },
  "language_info": {
   "codemirror_mode": {
    "name": "ipython",
    "version": 3
   },
   "file_extension": ".py",
   "mimetype": "text/x-python",
   "name": "python",
   "nbconvert_exporter": "python",
   "pygments_lexer": "ipython3",
   "version": "3.11.2"
  }
 },
 "nbformat": 4,
 "nbformat_minor": 5
}
